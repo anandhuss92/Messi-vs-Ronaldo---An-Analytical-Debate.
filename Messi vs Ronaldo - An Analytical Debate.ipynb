{
 "cells": [
  {
   "cell_type": "code",
   "execution_count": 5,
   "id": "9f9a764c",
   "metadata": {},
   "outputs": [],
   "source": [
    "# Import required libraries:\n",
    "import json\n",
    "import pandas as pd\n",
    "from bs4 import BeautifulSoup\n",
    "from urllib.request import urlopen"
   ]
  },
  {
   "cell_type": "code",
   "execution_count": 6,
   "id": "efc69853",
   "metadata": {},
   "outputs": [],
   "source": [
    "# Import required libraries:\n",
    "import json\n",
    "import pandas as pd\n",
    "from bs4 import BeautifulSoup\n",
    "from urllib.request import urlopen"
   ]
  },
  {
   "cell_type": "markdown",
   "id": "d8ba478d",
   "metadata": {
    "id": "5O_d1MnsK1Sg"
   },
   "source": [
    "# Get that Data!"
   ]
  },
  {
   "cell_type": "markdown",
   "id": "edd2c11d",
   "metadata": {
    "id": "INfOvi6ELS7y"
   },
   "source": [
    "## Cristiano Ronaldo"
   ]
  },
  {
   "cell_type": "markdown",
   "id": "3a356320",
   "metadata": {
    "id": "BLwgTYD9K_i3"
   },
   "source": [
    "### Season-wise data"
   ]
  },
  {
   "cell_type": "code",
   "execution_count": 7,
   "id": "eb29876d",
   "metadata": {},
   "outputs": [
    {
     "ename": "ValueError",
     "evalue": "substring not found",
     "output_type": "error",
     "traceback": [
      "\u001b[1;31m---------------------------------------------------------------------------\u001b[0m",
      "\u001b[1;31mValueError\u001b[0m                                Traceback (most recent call last)",
      "\u001b[1;32m<ipython-input-7-e28dac581eb5>\u001b[0m in \u001b[0;36m<module>\u001b[1;34m\u001b[0m\n\u001b[0;32m      5\u001b[0m \u001b[1;33m\u001b[0m\u001b[0m\n\u001b[0;32m      6\u001b[0m \u001b[0mjson_raw_string\u001b[0m \u001b[1;33m=\u001b[0m \u001b[0mpage_html\u001b[0m\u001b[1;33m.\u001b[0m\u001b[0mfindAll\u001b[0m\u001b[1;33m(\u001b[0m\u001b[0mname\u001b[0m\u001b[1;33m=\u001b[0m\u001b[1;34m\"script\"\u001b[0m\u001b[1;33m)\u001b[0m\u001b[1;33m[\u001b[0m\u001b[1;36m1\u001b[0m\u001b[1;33m]\u001b[0m\u001b[1;33m.\u001b[0m\u001b[0mtext\u001b[0m\u001b[1;33m\u001b[0m\u001b[1;33m\u001b[0m\u001b[0m\n\u001b[1;32m----> 7\u001b[1;33m \u001b[0mstart_ind\u001b[0m \u001b[1;33m=\u001b[0m \u001b[0mjson_raw_string\u001b[0m\u001b[1;33m.\u001b[0m\u001b[0mindex\u001b[0m\u001b[1;33m(\u001b[0m\u001b[1;34m\"\\\\\"\u001b[0m\u001b[1;33m)\u001b[0m\u001b[1;33m\u001b[0m\u001b[1;33m\u001b[0m\u001b[0m\n\u001b[0m\u001b[0;32m      8\u001b[0m \u001b[0mstop_ind\u001b[0m \u001b[1;33m=\u001b[0m \u001b[0mjson_raw_string\u001b[0m\u001b[1;33m.\u001b[0m\u001b[0mindex\u001b[0m\u001b[1;33m(\u001b[0m\u001b[1;34m\"')\"\u001b[0m\u001b[1;33m)\u001b[0m\u001b[1;33m\u001b[0m\u001b[1;33m\u001b[0m\u001b[0m\n\u001b[0;32m      9\u001b[0m \u001b[1;33m\u001b[0m\u001b[0m\n",
      "\u001b[1;31mValueError\u001b[0m: substring not found"
     ]
    }
   ],
   "source": [
    "# Scrape Cristiano player stats:\n",
    "cris_scrape_url = \"https://understat.com/player/2371\"\n",
    "page_connect = urlopen(cris_scrape_url)\n",
    "page_html = BeautifulSoup(page_connect, \"html.parser\")\n",
    "\n",
    "json_raw_string = page_html.findAll(name=\"script\")[1].text\n",
    "start_ind = json_raw_string.index(\"\\\\\")\n",
    "stop_ind = json_raw_string.index(\"')\")\n",
    "\n",
    "json_data = json_raw_string[start_ind:stop_ind]\n",
    "json_data = json_data.encode(\"utf8\").decode(\"unicode_escape\")\n",
    "\n",
    "cris_season_wise_meta_df = pd.json_normalize(json.loads(json_data)[\"season\"])\n",
    "cris_season_wise_meta_df.insert(0, \"Player\", \"Cristiano\")"
   ]
  },
  {
   "cell_type": "code",
   "execution_count": null,
   "id": "ec4a6c09",
   "metadata": {},
   "outputs": [],
   "source": []
  }
 ],
 "metadata": {
  "kernelspec": {
   "display_name": "Python 3",
   "language": "python",
   "name": "python3"
  },
  "language_info": {
   "codemirror_mode": {
    "name": "ipython",
    "version": 3
   },
   "file_extension": ".py",
   "mimetype": "text/x-python",
   "name": "python",
   "nbconvert_exporter": "python",
   "pygments_lexer": "ipython3",
   "version": "3.8.8"
  }
 },
 "nbformat": 4,
 "nbformat_minor": 5
}
